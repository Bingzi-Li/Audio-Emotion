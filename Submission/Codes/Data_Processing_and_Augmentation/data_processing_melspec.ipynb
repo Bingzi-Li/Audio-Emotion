{
 "cells": [
  {
   "cell_type": "code",
   "execution_count": 1,
   "metadata": {},
   "outputs": [],
   "source": [
    "# This code is for doing feature extraction for cz4042 final project\n",
    "# Speech emotion recognition\n",
    "\n",
    "import numpy as np\n",
    "import pandas as pd\n",
    "import os\n",
    "import librosa\n",
    "import librosa.display\n",
    "import IPython\n",
    "from IPython.display import Audio\n",
    "from IPython.display import Image\n",
    "import matplotlib.pyplot as plt"
   ]
  },
  {
   "cell_type": "code",
   "execution_count": 2,
   "metadata": {},
   "outputs": [],
   "source": [
    "# Labels for emotions\n",
    "EMOTIONS = {1:'neutral', 2:'calm', 3:'happy', 4:'sad', 5:'angry', 6:'fear', 7:'disgust', 0:'surprise'}\n",
    "# Data path to load input audio dataset\n",
    "DATA_PATH = './inputs/Audio_Speech_Actors_01-24/'\n",
    "SAMPLE_RATE = 44100"
   ]
  },
  {
   "cell_type": "code",
   "execution_count": 3,
   "metadata": {},
   "outputs": [
    {
     "name": "stdout",
     "output_type": "stream",
     "text": [
      "number of files is 1440\n"
     ]
    },
    {
     "data": {
      "text/html": [
       "<div>\n",
       "<style scoped>\n",
       "    .dataframe tbody tr th:only-of-type {\n",
       "        vertical-align: middle;\n",
       "    }\n",
       "\n",
       "    .dataframe tbody tr th {\n",
       "        vertical-align: top;\n",
       "    }\n",
       "\n",
       "    .dataframe thead th {\n",
       "        text-align: right;\n",
       "    }\n",
       "</style>\n",
       "<table border=\"1\" class=\"dataframe\">\n",
       "  <thead>\n",
       "    <tr style=\"text-align: right;\">\n",
       "      <th></th>\n",
       "      <th>Emotion</th>\n",
       "      <th>Intensity</th>\n",
       "      <th>Gender</th>\n",
       "      <th>Path</th>\n",
       "    </tr>\n",
       "  </thead>\n",
       "  <tbody>\n",
       "    <tr>\n",
       "      <th>0</th>\n",
       "      <td>5</td>\n",
       "      <td>normal</td>\n",
       "      <td>female</td>\n",
       "      <td>./inputs/Audio_Speech_Actors_01-24/Actor_16/03...</td>\n",
       "    </tr>\n",
       "    <tr>\n",
       "      <th>1</th>\n",
       "      <td>6</td>\n",
       "      <td>normal</td>\n",
       "      <td>female</td>\n",
       "      <td>./inputs/Audio_Speech_Actors_01-24/Actor_16/03...</td>\n",
       "    </tr>\n",
       "    <tr>\n",
       "      <th>2</th>\n",
       "      <td>6</td>\n",
       "      <td>strong</td>\n",
       "      <td>female</td>\n",
       "      <td>./inputs/Audio_Speech_Actors_01-24/Actor_16/03...</td>\n",
       "    </tr>\n",
       "    <tr>\n",
       "      <th>3</th>\n",
       "      <td>5</td>\n",
       "      <td>strong</td>\n",
       "      <td>female</td>\n",
       "      <td>./inputs/Audio_Speech_Actors_01-24/Actor_16/03...</td>\n",
       "    </tr>\n",
       "    <tr>\n",
       "      <th>4</th>\n",
       "      <td>7</td>\n",
       "      <td>normal</td>\n",
       "      <td>female</td>\n",
       "      <td>./inputs/Audio_Speech_Actors_01-24/Actor_16/03...</td>\n",
       "    </tr>\n",
       "  </tbody>\n",
       "</table>\n",
       "</div>"
      ],
      "text/plain": [
       "  Emotion Intensity  Gender                                               Path\n",
       "0       5    normal  female  ./inputs/Audio_Speech_Actors_01-24/Actor_16/03...\n",
       "1       6    normal  female  ./inputs/Audio_Speech_Actors_01-24/Actor_16/03...\n",
       "2       6    strong  female  ./inputs/Audio_Speech_Actors_01-24/Actor_16/03...\n",
       "3       5    strong  female  ./inputs/Audio_Speech_Actors_01-24/Actor_16/03...\n",
       "4       7    normal  female  ./inputs/Audio_Speech_Actors_01-24/Actor_16/03..."
      ]
     },
     "execution_count": 3,
     "metadata": {},
     "output_type": "execute_result"
    }
   ],
   "source": [
    "# Create a new dataframe and load all audio input files inside, with four columns,'Emotion', 'Intensity', 'Gender','Path'\n",
    "\n",
    "data = pd.DataFrame(columns=['Emotion', 'Intensity', 'Gender','Path'])\n",
    "\n",
    "for dirname, _, filenames in os.walk(DATA_PATH):\n",
    "    for filename in filenames:\n",
    "        file_path = os.path.join(dirname, filename)\n",
    "        identifiers = filename.split('.')[0].split('-')\n",
    "        emotion = (int(identifiers[2]))\n",
    "        if emotion == 8:\n",
    "            emotion = 0\n",
    "        if int(identifiers[3]) == 1:\n",
    "            emotion_intensity = 'normal' \n",
    "        else:\n",
    "            emotion_intensity = 'strong'\n",
    "        if int(identifiers[6])%2 == 0:\n",
    "            gender = 'female'\n",
    "        else:\n",
    "            gender = 'male'\n",
    "        \n",
    "        data = data.append({\"Emotion\": emotion,\n",
    "                            \"Intensity\": emotion_intensity,\n",
    "                            \"Gender\": gender,\n",
    "                            \"Path\": file_path\n",
    "                             },\n",
    "                             ignore_index = True\n",
    "                          )\n",
    "print(\"number of files is {}\".format(len(data)))\n",
    "data.head()"
   ]
  },
  {
   "cell_type": "code",
   "execution_count": 4,
   "metadata": {},
   "outputs": [
    {
     "name": "stdout",
     "output_type": "stream",
     "text": [
      "Mel-spectrogram shape:  (60, 513)\n"
     ]
    },
    {
     "name": "stderr",
     "output_type": "stream",
     "text": [
      "/Users/yzhang/.pyenv/versions/3.7.1/envs/cz4042_final/lib/python3.7/site-packages/librosa/display.py:974: MatplotlibDeprecationWarning: The 'basey' parameter of __init__() has been renamed 'base' since Matplotlib 3.3; support for the old name will be dropped two minor releases later.\n",
      "  scaler(mode, **kwargs)\n",
      "/Users/yzhang/.pyenv/versions/3.7.1/envs/cz4042_final/lib/python3.7/site-packages/librosa/display.py:974: MatplotlibDeprecationWarning: The 'linthreshy' parameter of __init__() has been renamed 'linthresh' since Matplotlib 3.3; support for the old name will be dropped two minor releases later.\n",
      "  scaler(mode, **kwargs)\n"
     ]
    },
    {
     "data": {
      "image/png": "[encoded data removed]",
      "text/plain": [
       "<Figure size 432x288 with 1 Axes>"
      ]
     },
     "metadata": {
      "needs_background": "light"
     },
     "output_type": "display_data"
    }
   ],
   "source": [
    "# Method to calculate Mel-spectrogram using librosa library\n",
    "def getMELspectrogram(audio, sample_rate):\n",
    "    mel_spec = librosa.feature.melspectrogram(y=audio,\n",
    "                                              sr=sample_rate,\n",
    "                                              n_fft=1024,\n",
    "                                              win_length = 512,\n",
    "                                              window='hamming',\n",
    "                                              hop_length = 258,\n",
    "                                              n_mels=60,\n",
    "                                              fmax=sample_rate/2\n",
    "                                             )\n",
    "    mel_spec_db = librosa.power_to_db(mel_spec, ref=np.max)\n",
    "    return mel_spec_db\n",
    "\n",
    "# Test function for feature extraction\n",
    "audio, sample_rate = librosa.load(data.loc[0,'Path'], duration=3, offset=0.5,sr=SAMPLE_RATE)\n",
    "signal = np.zeros((int(SAMPLE_RATE*3,)))\n",
    "signal[:len(audio)] = audio\n",
    "mel_spectrogram = getMELspectrogram(signal, SAMPLE_RATE)\n",
    "librosa.display.specshow(mel_spectrogram, y_axis='mel', x_axis='time')\n",
    "print('Mel-spectrogram shape: ',mel_spectrogram.shape)"
   ]
  },
  {
   "cell_type": "code",
   "execution_count": 5,
   "metadata": {},
   "outputs": [
    {
     "name": "stdout",
     "output_type": "stream",
     "text": [
      " Processed 1439/1440 files"
     ]
    }
   ],
   "source": [
    "# Generate mel-spectrogram data for all raw inputs files \n",
    "mel_spectrograms = []\n",
    "signals = []\n",
    "for i, file_path in enumerate(data.Path):\n",
    "    audio, sample_rate = librosa.load(file_path, duration=2.5, offset=0.5, sr=SAMPLE_RATE)\n",
    "    signal = np.zeros((int(SAMPLE_RATE*3,)))\n",
    "    signal[:len(audio)] = audio\n",
    "    signals.append(signal)\n",
    "    mel_spectrogram = getMELspectrogram(signal, sample_rate=SAMPLE_RATE)\n",
    "    mel_spectrograms.append(mel_spectrogram)\n",
    "    print(\"\\r Processed {}/{} files\".format(i,len(data)),end='')"
   ]
  },
  {
   "cell_type": "code",
   "execution_count": 6,
   "metadata": {},
   "outputs": [
    {
     "name": "stdout",
     "output_type": "stream",
     "text": [
      "Mel-spectrogram shape:  (60, 513)\n"
     ]
    }
   ],
   "source": [
    "print('Mel-spectrogram shape: ',mel_spectrogram.shape)"
   ]
  },
  {
   "cell_type": "code",
   "execution_count": 7,
   "metadata": {},
   "outputs": [],
   "source": [
    "# Function used for data augmentation\n",
    "def addAWGN(signal, num_bits=16, augmented_num=2, snr_low=15, snr_high=30): \n",
    "    signal_len = len(signal)\n",
    "    # Generate White Gaussian noise\n",
    "    noise = np.random.normal(size=(augmented_num, signal_len))\n",
    "    # Normalize signal and noise\n",
    "    norm_constant = 2.0**(num_bits-1)\n",
    "    signal_norm = signal / norm_constant\n",
    "    noise_norm = noise / norm_constant\n",
    "    # Compute signal and noise power\n",
    "    s_power = np.sum(signal_norm ** 2) / signal_len\n",
    "    n_power = np.sum(noise_norm ** 2, axis=1) / signal_len\n",
    "    # Random SNR: Uniform [15, 30] in dB\n",
    "    target_snr = np.random.randint(snr_low, snr_high)\n",
    "    # Compute K (covariance matrix) for each noise \n",
    "    K = np.sqrt((s_power / n_power) * 10 ** (- target_snr / 10))\n",
    "    K = np.ones((signal_len, augmented_num)) * K  \n",
    "    # Generate noisy signal\n",
    "    return signal + K.T * noise"
   ]
  },
  {
   "cell_type": "code",
   "execution_count": 8,
   "metadata": {},
   "outputs": [
    {
     "name": "stdout",
     "output_type": "stream",
     "text": [
      " Processed 1439/1440 files"
     ]
    }
   ],
   "source": [
    "# Data augmentation\n",
    "for i,signal in enumerate(signals):\n",
    "    augmented_signals = addAWGN(signal)\n",
    "    for j in range(augmented_signals.shape[0]):\n",
    "        mel_spectrogram = getMELspectrogram(augmented_signals[j,:], sample_rate=SAMPLE_RATE)\n",
    "        mel_spectrograms.append(mel_spectrogram)\n",
    "        data = data.append(data.iloc[i], ignore_index=True)\n",
    "    print(\"\\r Processed {}/{} files\".format(i,len(signals)),end='')"
   ]
  },
  {
   "cell_type": "code",
   "execution_count": 9,
   "metadata": {},
   "outputs": [
    {
     "name": "stdout",
     "output_type": "stream",
     "text": [
      "Mel-spectrogram shape:  (60, 513)\n"
     ]
    }
   ],
   "source": [
    "print('Mel-spectrogram shape: ',mel_spectrogram.shape)"
   ]
  },
  {
   "cell_type": "code",
   "execution_count": 10,
   "metadata": {},
   "outputs": [
    {
     "data": {
      "text/html": [
       "<div>\n",
       "<style scoped>\n",
       "    .dataframe tbody tr th:only-of-type {\n",
       "        vertical-align: middle;\n",
       "    }\n",
       "\n",
       "    .dataframe tbody tr th {\n",
       "        vertical-align: top;\n",
       "    }\n",
       "\n",
       "    .dataframe thead th {\n",
       "        text-align: right;\n",
       "    }\n",
       "</style>\n",
       "<table border=\"1\" class=\"dataframe\">\n",
       "  <thead>\n",
       "    <tr style=\"text-align: right;\">\n",
       "      <th></th>\n",
       "      <th>Emotion</th>\n",
       "      <th>Intensity</th>\n",
       "      <th>Gender</th>\n",
       "      <th>Path</th>\n",
       "    </tr>\n",
       "  </thead>\n",
       "  <tbody>\n",
       "    <tr>\n",
       "      <th>0</th>\n",
       "      <td>5</td>\n",
       "      <td>normal</td>\n",
       "      <td>female</td>\n",
       "      <td>./inputs/Audio_Speech_Actors_01-24/Actor_16/03...</td>\n",
       "    </tr>\n",
       "    <tr>\n",
       "      <th>1</th>\n",
       "      <td>6</td>\n",
       "      <td>normal</td>\n",
       "      <td>female</td>\n",
       "      <td>./inputs/Audio_Speech_Actors_01-24/Actor_16/03...</td>\n",
       "    </tr>\n",
       "    <tr>\n",
       "      <th>2</th>\n",
       "      <td>6</td>\n",
       "      <td>strong</td>\n",
       "      <td>female</td>\n",
       "      <td>./inputs/Audio_Speech_Actors_01-24/Actor_16/03...</td>\n",
       "    </tr>\n",
       "    <tr>\n",
       "      <th>3</th>\n",
       "      <td>5</td>\n",
       "      <td>strong</td>\n",
       "      <td>female</td>\n",
       "      <td>./inputs/Audio_Speech_Actors_01-24/Actor_16/03...</td>\n",
       "    </tr>\n",
       "    <tr>\n",
       "      <th>4</th>\n",
       "      <td>7</td>\n",
       "      <td>normal</td>\n",
       "      <td>female</td>\n",
       "      <td>./inputs/Audio_Speech_Actors_01-24/Actor_16/03...</td>\n",
       "    </tr>\n",
       "  </tbody>\n",
       "</table>\n",
       "</div>"
      ],
      "text/plain": [
       "  Emotion Intensity  Gender                                               Path\n",
       "0       5    normal  female  ./inputs/Audio_Speech_Actors_01-24/Actor_16/03...\n",
       "1       6    normal  female  ./inputs/Audio_Speech_Actors_01-24/Actor_16/03...\n",
       "2       6    strong  female  ./inputs/Audio_Speech_Actors_01-24/Actor_16/03...\n",
       "3       5    strong  female  ./inputs/Audio_Speech_Actors_01-24/Actor_16/03...\n",
       "4       7    normal  female  ./inputs/Audio_Speech_Actors_01-24/Actor_16/03..."
      ]
     },
     "execution_count": 10,
     "metadata": {},
     "output_type": "execute_result"
    }
   ],
   "source": [
    "data.head()"
   ]
  },
  {
   "cell_type": "code",
   "execution_count": 11,
   "metadata": {},
   "outputs": [
    {
     "name": "stdout",
     "output_type": "stream",
     "text": [
      "4320\n"
     ]
    }
   ],
   "source": [
    "print(len(data))"
   ]
  },
  {
   "cell_type": "code",
   "execution_count": 12,
   "metadata": {},
   "outputs": [],
   "source": [
    "# Save data pickle file for further use\n",
    "data.to_pickle(\"./inputs/data_df_1.pkl\")"
   ]
  },
  {
   "cell_type": "code",
   "execution_count": 13,
   "metadata": {},
   "outputs": [],
   "source": [
    "# Method to split data into chunks\n",
    "def splitIntoChunks(mel_spec,win_size,stride):\n",
    "    t = mel_spec.shape[1]\n",
    "    num_of_chunks = int(t/stride)\n",
    "    chunks = []\n",
    "    for i in range(num_of_chunks):\n",
    "        chunk = mel_spec[:,i*stride:i*stride+win_size]\n",
    "        if chunk.shape[1] == win_size:\n",
    "            chunks.append(chunk)\n",
    "    return np.stack(chunks,axis=0)"
   ]
  },
  {
   "cell_type": "code",
   "execution_count": 20,
   "metadata": {},
   "outputs": [
    {
     "name": "stdout",
     "output_type": "stream",
     "text": [
      "Number of chunks is 2\n"
     ]
    }
   ],
   "source": [
    "# Get chunks of Mel-spectrogram data\n",
    "mel_spectrograms_chunked = []\n",
    "for mel_spec in mel_spectrograms:\n",
    "    chunks = splitIntoChunks(mel_spec, win_size=216,stride=160)\n",
    "    mel_spectrograms_chunked.append(chunks)\n",
    "print(\"Number of chunks is {}\".format(chunks.shape[0]))"
   ]
  },
  {
   "cell_type": "code",
   "execution_count": 21,
   "metadata": {},
   "outputs": [],
   "source": [
    "mel_spectrograms_chunked = np.array(mel_spectrograms_chunked)"
   ]
  },
  {
   "cell_type": "code",
   "execution_count": 22,
   "metadata": {},
   "outputs": [
    {
     "name": "stdout",
     "output_type": "stream",
     "text": [
      "Mel-spectrogram-chunked shape:  (4320, 2, 60, 216)\n"
     ]
    }
   ],
   "source": [
    "print('Mel-spectrogram-chunked shape: ',mel_spectrograms_chunked.shape)"
   ]
  },
  {
   "cell_type": "code",
   "execution_count": 24,
   "metadata": {},
   "outputs": [
    {
     "name": "stdout",
     "output_type": "stream",
     "text": [
      "(4320, 2, 60, 216)\n",
      "4320\n",
      "<class 'numpy.ndarray'>\n",
      "[[[-80.         -80.         -80.         ... -65.58497956 -71.75707657\n",
      "   -62.84482522]\n",
      "  [-80.         -80.         -80.         ... -54.48661897 -57.59401736\n",
      "   -61.59374893]\n",
      "  [-80.         -80.         -80.         ... -51.3214946  -53.26740061\n",
      "   -54.34935051]\n",
      "  ...\n",
      "  [-80.         -80.         -80.         ... -35.27971085 -36.03943439\n",
      "   -39.31599331]\n",
      "  [-80.         -80.         -80.         ... -39.22731017 -36.48513243\n",
      "   -39.20577163]\n",
      "  [-80.         -80.         -80.         ... -44.94307591 -45.19873847\n",
      "   -47.6746179 ]]\n",
      "\n",
      " [[-65.86260842 -67.31428646 -65.28444748 ... -36.18594697 -38.0991426\n",
      "   -35.09603016]\n",
      "  [-56.97623194 -57.10194513 -62.09413082 ... -23.6494847  -24.12405467\n",
      "   -22.22708553]\n",
      "  [-56.04633004 -54.27408033 -52.1952475  ... -20.47817364 -21.52210122\n",
      "   -18.02221002]\n",
      "  ...\n",
      "  [-80.         -80.         -80.         ... -68.59825772 -66.64235733\n",
      "   -63.2935983 ]\n",
      "  [-80.         -80.         -80.         ... -66.94829592 -67.44728795\n",
      "   -68.08097386]\n",
      "  [-80.         -80.         -80.         ... -72.21595615 -72.75324638\n",
      "   -72.99821306]]]\n"
     ]
    }
   ],
   "source": [
    "# Change type frome list to np list for reshape\n",
    "arr = np.array(mel_spectrograms_chunked)\n",
    "# print(arr.shape)\n",
    "# print(len(arr))\n",
    "# print(type(arr))\n",
    "# print(arr[0])"
   ]
  },
  {
   "cell_type": "code",
   "execution_count": 27,
   "metadata": {},
   "outputs": [
    {
     "name": "stdout",
     "output_type": "stream",
     "text": [
      "4320\n",
      "[-80.         -80.         -80.         ... -72.21595615 -72.75324638\n",
      " -72.99821306]\n"
     ]
    }
   ],
   "source": [
    "# Reshape mel-spectrogram data inorder to save for further use\n",
    "reshape = arr.reshape(4320, 2*60*216)\n",
    "# print(len(reshape))\n",
    "# print(reshape[0])"
   ]
  },
  {
   "cell_type": "code",
   "execution_count": 28,
   "metadata": {},
   "outputs": [],
   "source": [
    "# Save data after feature extraction into npy file for further use\n",
    "np.save(\"./inputs/mel_spec_data_1.npy\", reshape)"
   ]
  }
 ],
 "metadata": {
  "kernelspec": {
   "display_name": "Python 3",
   "language": "python",
   "name": "python3"
  },
  "language_info": {
   "codemirror_mode": {
    "name": "ipython",
    "version": 3
   },
   "file_extension": ".py",
   "mimetype": "text/x-python",
   "name": "python",
   "nbconvert_exporter": "python",
   "pygments_lexer": "ipython3",
   "version": "3.7.9"
  },
  "toc": {
   "base_numbering": 1,
   "nav_menu": {},
   "number_sections": true,
   "sideBar": true,
   "skip_h1_title": false,
   "title_cell": "Table of Contents",
   "title_sidebar": "Contents",
   "toc_cell": false,
   "toc_position": {},
   "toc_section_display": true,
   "toc_window_display": false
  }
 },
 "nbformat": 4,
 "nbformat_minor": 4
}
